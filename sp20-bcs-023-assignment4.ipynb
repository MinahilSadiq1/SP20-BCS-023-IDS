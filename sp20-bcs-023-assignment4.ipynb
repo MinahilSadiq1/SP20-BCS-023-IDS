{
 "cells": [
  {
   "cell_type": "code",
   "execution_count": 183,
   "id": "005ad2d5",
   "metadata": {},
   "outputs": [],
   "source": [
    "import pandas as pd\n",
    "import numpy as np\n",
    "import os\n",
    "\n",
    "from sklearn.svm import SVC\n",
    "from sklearn.ensemble import RandomForestClassifier\n",
    "from sklearn.neural_network import MLPClassifier\n",
    "from sklearn.tree import DecisionTreeClassifier\n",
    "\n",
    "from sklearn import preprocessing\n",
    "from sklearn.model_selection import train_test_split, ShuffleSplit, LeavePOut, cross_val_score\n",
    "from sklearn.metrics import classification_report,confusion_matrix\n",
    "from sklearn.metrics import precision_score, recall_score, f1_score, accuracy_score\n",
    "from sklearn import metrics, model_selection\n",
    "\n",
    "import matplotlib.pyplot as plt\n",
    "import seaborn as sns"
   ]
  },
  {
   "cell_type": "code",
   "execution_count": 44,
   "id": "3212ac93",
   "metadata": {},
   "outputs": [
    {
     "data": {
      "text/plain": [
       "['.ipynb_checkpoints',\n",
       " 'gender-prediction.csv',\n",
       " 'ids-a1',\n",
       " 'ids.a2',\n",
       " 'lectures',\n",
       " 'sp20-bcs-023-assignment4.docx',\n",
       " 'sp20-bcs-023-assignment4.ipynb',\n",
       " 'Untitled.ipynb',\n",
       " '~$20-bcs-023-assignment4.docx']"
      ]
     },
     "execution_count": 44,
     "metadata": {},
     "output_type": "execute_result"
    }
   ],
   "source": [
    "os.listdir()"
   ]
  },
  {
   "cell_type": "markdown",
   "id": "01f894f2",
   "metadata": {},
   "source": [
    "## LOADING DATASET"
   ]
  },
  {
   "cell_type": "code",
   "execution_count": 45,
   "id": "5ba6b420",
   "metadata": {},
   "outputs": [
    {
     "data": {
      "text/html": [
       "<div>\n",
       "<style scoped>\n",
       "    .dataframe tbody tr th:only-of-type {\n",
       "        vertical-align: middle;\n",
       "    }\n",
       "\n",
       "    .dataframe tbody tr th {\n",
       "        vertical-align: top;\n",
       "    }\n",
       "\n",
       "    .dataframe thead th {\n",
       "        text-align: right;\n",
       "    }\n",
       "</style>\n",
       "<table border=\"1\" class=\"dataframe\">\n",
       "  <thead>\n",
       "    <tr style=\"text-align: right;\">\n",
       "      <th></th>\n",
       "      <th>height</th>\n",
       "      <th>weight</th>\n",
       "      <th>beard</th>\n",
       "      <th>hair_length</th>\n",
       "      <th>shoe_size</th>\n",
       "      <th>scarf</th>\n",
       "      <th>eye_color</th>\n",
       "      <th>gender</th>\n",
       "    </tr>\n",
       "  </thead>\n",
       "  <tbody>\n",
       "    <tr>\n",
       "      <th>75</th>\n",
       "      <td>65</td>\n",
       "      <td>99</td>\n",
       "      <td>no</td>\n",
       "      <td>short</td>\n",
       "      <td>39</td>\n",
       "      <td>yes</td>\n",
       "      <td>green</td>\n",
       "      <td>female</td>\n",
       "    </tr>\n",
       "    <tr>\n",
       "      <th>76</th>\n",
       "      <td>61</td>\n",
       "      <td>98</td>\n",
       "      <td>no</td>\n",
       "      <td>short</td>\n",
       "      <td>37</td>\n",
       "      <td>no</td>\n",
       "      <td>brown</td>\n",
       "      <td>female</td>\n",
       "    </tr>\n",
       "    <tr>\n",
       "      <th>77</th>\n",
       "      <td>67</td>\n",
       "      <td>119</td>\n",
       "      <td>yes</td>\n",
       "      <td>short</td>\n",
       "      <td>40</td>\n",
       "      <td>no</td>\n",
       "      <td>black</td>\n",
       "      <td>male</td>\n",
       "    </tr>\n",
       "    <tr>\n",
       "      <th>78</th>\n",
       "      <td>70</td>\n",
       "      <td>190</td>\n",
       "      <td>yes</td>\n",
       "      <td>medium</td>\n",
       "      <td>43</td>\n",
       "      <td>no</td>\n",
       "      <td>gray</td>\n",
       "      <td>male</td>\n",
       "    </tr>\n",
       "    <tr>\n",
       "      <th>79</th>\n",
       "      <td>62</td>\n",
       "      <td>142</td>\n",
       "      <td>yes</td>\n",
       "      <td>long</td>\n",
       "      <td>37</td>\n",
       "      <td>no</td>\n",
       "      <td>blue</td>\n",
       "      <td>female</td>\n",
       "    </tr>\n",
       "  </tbody>\n",
       "</table>\n",
       "</div>"
      ],
      "text/plain": [
       "    height  weight beard hair_length  shoe_size scarf eye_color  gender\n",
       "75      65      99    no       short         39   yes     green  female\n",
       "76      61      98    no       short         37    no     brown  female\n",
       "77      67     119   yes       short         40    no     black    male\n",
       "78      70     190   yes      medium         43    no      gray    male\n",
       "79      62     142   yes        long         37    no      blue  female"
      ]
     },
     "execution_count": 45,
     "metadata": {},
     "output_type": "execute_result"
    }
   ],
   "source": [
    "df = pd.read_csv(\"gender-prediction.csv\")\n",
    "df.tail()"
   ]
  },
  {
   "cell_type": "markdown",
   "id": "21fcb59d",
   "metadata": {},
   "source": [
    "## ENCODING (STRINGS INTO NUMBERS)"
   ]
  },
  {
   "cell_type": "code",
   "execution_count": 46,
   "id": "8bb6386e",
   "metadata": {},
   "outputs": [
    {
     "data": {
      "text/plain": [
       "array([1, 0, 0, 0, 1, 1, 1, 0, 0, 0, 0, 1, 0, 0, 1, 1, 0, 0, 0, 0, 0, 1,\n",
       "       1, 1, 0, 1, 1, 0, 0, 0, 0, 1, 0, 0, 0, 1, 0, 1, 0, 0, 0, 1, 1, 1,\n",
       "       1, 0, 0, 1, 1, 1, 1, 1, 0, 1, 0, 0, 1, 0, 1, 1, 0, 1, 1, 0, 0, 1,\n",
       "       0, 1, 0, 1, 0, 0, 1, 0, 0, 0, 0, 1, 1, 1])"
      ]
     },
     "execution_count": 46,
     "metadata": {},
     "output_type": "execute_result"
    }
   ],
   "source": [
    "#converting strings into numbers\n",
    "labels = preprocessing.LabelEncoder()\n",
    "b_encoded = labels.fit_transform(df.beard)\n",
    "h_encoded = labels.fit_transform(df.hair_length)\n",
    "s_encoded = labels.fit_transform(df.scarf)\n",
    "e_encoded = labels.fit_transform(df.eye_color)\n",
    "g_encoded = labels.fit_transform(df.gender)\n",
    "\n",
    "b_encoded"
   ]
  },
  {
   "cell_type": "code",
   "execution_count": 47,
   "id": "989e14ab",
   "metadata": {},
   "outputs": [
    {
     "data": {
      "text/plain": [
       "array([3, 0, 2, 1, 2, 3, 0, 3, 3, 2, 1, 3, 2, 1, 2, 3, 3, 1, 1, 2, 2, 2,\n",
       "       3, 2, 2, 2, 2, 2, 1, 3, 2, 2, 1, 2, 2, 2, 2, 2, 1, 2, 3, 2, 2, 3,\n",
       "       0, 2, 1, 2, 2, 2, 2, 2, 2, 2, 1, 2, 2, 1, 2, 2, 2, 2, 3, 1, 1, 0,\n",
       "       1, 3, 2, 3, 1, 2, 2, 1, 1, 3, 3, 3, 2, 1])"
      ]
     },
     "execution_count": 47,
     "metadata": {},
     "output_type": "execute_result"
    }
   ],
   "source": [
    "h_encoded"
   ]
  },
  {
   "cell_type": "code",
   "execution_count": 48,
   "id": "b49f007a",
   "metadata": {},
   "outputs": [
    {
     "data": {
      "text/plain": [
       "array([0, 0, 1, 0, 0, 0, 0, 0, 0, 1, 0, 0, 0, 0, 0, 0, 0, 1, 1, 0, 0, 0,\n",
       "       0, 0, 1, 0, 0, 0, 0, 1, 1, 0, 0, 0, 1, 0, 1, 0, 1, 1, 0, 0, 0, 0,\n",
       "       0, 0, 0, 0, 0, 0, 0, 0, 0, 0, 0, 0, 0, 1, 0, 0, 0, 0, 0, 1, 1, 0,\n",
       "       1, 0, 1, 0, 0, 0, 0, 1, 1, 1, 0, 0, 0, 0])"
      ]
     },
     "execution_count": 48,
     "metadata": {},
     "output_type": "execute_result"
    }
   ],
   "source": [
    "s_encoded"
   ]
  },
  {
   "cell_type": "code",
   "execution_count": 49,
   "id": "4557033b",
   "metadata": {},
   "outputs": [
    {
     "data": {
      "text/plain": [
       "array([0, 0, 1, 3, 3, 0, 2, 2, 4, 3, 3, 3, 0, 3, 0, 1, 0, 4, 3, 4, 0, 0,\n",
       "       0, 3, 2, 2, 0, 4, 1, 3, 2, 3, 3, 0, 2, 2, 4, 0, 3, 4, 3, 0, 0, 2,\n",
       "       0, 2, 0, 2, 0, 0, 0, 2, 2, 2, 2, 0, 2, 3, 2, 2, 2, 2, 2, 4, 3, 0,\n",
       "       4, 0, 0, 0, 2, 0, 2, 3, 4, 4, 2, 0, 3, 1])"
      ]
     },
     "execution_count": 49,
     "metadata": {},
     "output_type": "execute_result"
    }
   ],
   "source": [
    "e_encoded"
   ]
  },
  {
   "cell_type": "code",
   "execution_count": 50,
   "id": "0b1d5e9f",
   "metadata": {},
   "outputs": [
    {
     "data": {
      "text/plain": [
       "array([1, 1, 0, 0, 1, 1, 1, 1, 0, 0, 0, 1, 1, 0, 1, 1, 1, 0, 0, 0, 0, 1,\n",
       "       1, 1, 0, 1, 1, 0, 0, 0, 0, 1, 0, 0, 0, 1, 0, 1, 0, 0, 0, 1, 1, 1,\n",
       "       1, 1, 1, 1, 1, 1, 1, 1, 1, 1, 0, 1, 1, 0, 1, 1, 1, 1, 1, 0, 0, 1,\n",
       "       0, 1, 0, 1, 0, 1, 1, 0, 0, 0, 0, 1, 1, 0])"
      ]
     },
     "execution_count": 50,
     "metadata": {},
     "output_type": "execute_result"
    }
   ],
   "source": [
    "g_encoded"
   ]
  },
  {
   "cell_type": "markdown",
   "id": "99d2b367",
   "metadata": {},
   "source": [
    "## Seperating INPUT and OUTPUT columns"
   ]
  },
  {
   "cell_type": "code",
   "execution_count": 51,
   "id": "0e63a092",
   "metadata": {},
   "outputs": [],
   "source": [
    "inputfeatures = list(zip(df.height,df.weight,b_encoded,h_encoded,df.shoe_size,s_encoded,e_encoded))\n",
    "target = g_encoded"
   ]
  },
  {
   "cell_type": "code",
   "execution_count": 33,
   "id": "345d5ecd",
   "metadata": {},
   "outputs": [
    {
     "data": {
      "text/plain": [
       "array([1, 1, 0, 0, 1, 1, 1, 1, 0, 0, 0, 1, 1, 0, 1, 1, 1, 0, 0, 0, 0, 1,\n",
       "       1, 1, 0, 1, 1, 0, 0, 0, 0, 1, 0, 0, 0, 1, 0, 1, 0, 0, 0, 1, 1, 1,\n",
       "       1, 1, 1, 1, 1, 1, 1, 1, 1, 1, 0, 1, 1, 0, 1, 1, 1, 1, 1, 0, 0, 1,\n",
       "       0, 1, 0, 1, 0, 1, 1, 0, 0, 0, 0, 1, 1, 0])"
      ]
     },
     "execution_count": 33,
     "metadata": {},
     "output_type": "execute_result"
    }
   ],
   "source": [
    "target"
   ]
  },
  {
   "cell_type": "markdown",
   "id": "0519b9c2",
   "metadata": {},
   "source": [
    "## QUESTION:2"
   ]
  },
  {
   "cell_type": "markdown",
   "id": "47f39153",
   "metadata": {},
   "source": [
    "### TRAIN_TEST_SPLIT"
   ]
  },
  {
   "cell_type": "code",
   "execution_count": 52,
   "id": "6c2b6603",
   "metadata": {},
   "outputs": [],
   "source": [
    "X_train, X_test, Y_train, Y_test = train_test_split(inputfeatures, target, test_size = 0.33, random_state = 1)"
   ]
  },
  {
   "cell_type": "markdown",
   "id": "42cc82e6",
   "metadata": {},
   "source": [
    "### RANDOM FOREST CLASSIFIER"
   ]
  },
  {
   "cell_type": "code",
   "execution_count": 54,
   "id": "0e88e6b4",
   "metadata": {},
   "outputs": [
    {
     "data": {
      "text/plain": [
       "RandomForestClassifier()"
      ]
     },
     "execution_count": 54,
     "metadata": {},
     "output_type": "execute_result"
    }
   ],
   "source": [
    "model = RandomForestClassifier()\n",
    "model.fit(X_train,Y_train)"
   ]
  },
  {
   "cell_type": "code",
   "execution_count": 55,
   "id": "7ccf8619",
   "metadata": {},
   "outputs": [
    {
     "name": "stdout",
     "output_type": "stream",
     "text": [
      "accuracy score of Random Forest Classifier: 100.0 %\n"
     ]
    }
   ],
   "source": [
    "prediction = model.predict(X_test)\n",
    "accuracy_RFC = accuracy_score(Y_test, prediction)*100\n",
    "print(\"accuracy score of Random Forest Classifier:\", accuracy_RFC, '%')"
   ]
  },
  {
   "cell_type": "code",
   "execution_count": 58,
   "id": "32c1e118",
   "metadata": {},
   "outputs": [
    {
     "data": {
      "image/png": "[encoded data removed]",
      "text/plain": [
       "<Figure size 432x288 with 2 Axes>"
      ]
     },
     "metadata": {
      "needs_background": "light"
     },
     "output_type": "display_data"
    }
   ],
   "source": [
    "confusion_matrix = metrics.confusion_matrix(Y_test,prediction)\n",
    "\n",
    "cm_display = metrics.ConfusionMatrixDisplay(confusion_matrix = confusion_matrix, display_labels = ['Male', 'Female'])\n",
    "cm_display.plot()\n",
    "plt.show()"
   ]
  },
  {
   "cell_type": "code",
   "execution_count": 59,
   "id": "e721b268",
   "metadata": {},
   "outputs": [
    {
     "name": "stdout",
     "output_type": "stream",
     "text": [
      "              precision    recall  f1-score   support\n",
      "\n",
      "           0       1.00      1.00      1.00        14\n",
      "           1       1.00      1.00      1.00        13\n",
      "\n",
      "    accuracy                           1.00        27\n",
      "   macro avg       1.00      1.00      1.00        27\n",
      "weighted avg       1.00      1.00      1.00        27\n",
      "\n"
     ]
    }
   ],
   "source": [
    "print(classification_report(Y_test, prediction))"
   ]
  },
  {
   "cell_type": "markdown",
   "id": "f646e38a",
   "metadata": {},
   "source": [
    "### SUPPORT VECTOR MACHINE"
   ]
  },
  {
   "cell_type": "code",
   "execution_count": 61,
   "id": "2c7089c8",
   "metadata": {},
   "outputs": [
    {
     "data": {
      "text/plain": [
       "SVC()"
      ]
     },
     "execution_count": 61,
     "metadata": {},
     "output_type": "execute_result"
    }
   ],
   "source": [
    "model1 = SVC()\n",
    "model1.fit(X_train,Y_train)"
   ]
  },
  {
   "cell_type": "code",
   "execution_count": 62,
   "id": "32bb7906",
   "metadata": {},
   "outputs": [
    {
     "name": "stdout",
     "output_type": "stream",
     "text": [
      "accuracy score of Support Vector Machine: 77.77777777777779 %\n"
     ]
    }
   ],
   "source": [
    "predict = model1.predict(X_test)\n",
    "accuracy_SVC = accuracy_score(Y_test, predict)*100\n",
    "print(\"accuracy score of Support Vector Machine:\", accuracy_SVC, '%')"
   ]
  },
  {
   "cell_type": "code",
   "execution_count": 63,
   "id": "c5d1ed4e",
   "metadata": {},
   "outputs": [
    {
     "data": {
      "image/png": "[encoded data removed]",
      "text/plain": [
       "<Figure size 432x288 with 2 Axes>"
      ]
     },
     "metadata": {
      "needs_background": "light"
     },
     "output_type": "display_data"
    }
   ],
   "source": [
    "confusion_matrix = metrics.confusion_matrix(Y_test,predict)\n",
    "\n",
    "sm_display = metrics.ConfusionMatrixDisplay(confusion_matrix = confusion_matrix, display_labels = ['Male', 'Female'])\n",
    "sm_display.plot()\n",
    "plt.show()"
   ]
  },
  {
   "cell_type": "code",
   "execution_count": 64,
   "id": "25bf0fd5",
   "metadata": {},
   "outputs": [
    {
     "name": "stdout",
     "output_type": "stream",
     "text": [
      "              precision    recall  f1-score   support\n",
      "\n",
      "           0       0.79      0.79      0.79        14\n",
      "           1       0.77      0.77      0.77        13\n",
      "\n",
      "    accuracy                           0.78        27\n",
      "   macro avg       0.78      0.78      0.78        27\n",
      "weighted avg       0.78      0.78      0.78        27\n",
      "\n"
     ]
    }
   ],
   "source": [
    "print(classification_report(Y_test, predict))"
   ]
  },
  {
   "cell_type": "markdown",
   "id": "db661f5a",
   "metadata": {},
   "source": [
    "### MULTILAYER PERCEPTRON"
   ]
  },
  {
   "cell_type": "code",
   "execution_count": 65,
   "id": "876ccd92",
   "metadata": {},
   "outputs": [
    {
     "data": {
      "text/plain": [
       "MLPClassifier()"
      ]
     },
     "execution_count": 65,
     "metadata": {},
     "output_type": "execute_result"
    }
   ],
   "source": [
    "model2 = MLPClassifier()\n",
    "model2.fit(X_train,Y_train)"
   ]
  },
  {
   "cell_type": "code",
   "execution_count": 66,
   "id": "c1a62f16",
   "metadata": {},
   "outputs": [
    {
     "name": "stdout",
     "output_type": "stream",
     "text": [
      "accuracy score of Multilayer Perceptron: 48.148148148148145 %\n"
     ]
    }
   ],
   "source": [
    "pred = model2.predict(X_test)\n",
    "accuracy_MLP = accuracy_score(Y_test, pred)*100\n",
    "print(\"accuracy score of Multilayer Perceptron:\", accuracy_MLP, '%')"
   ]
  },
  {
   "cell_type": "code",
   "execution_count": 67,
   "id": "5a5cd46c",
   "metadata": {},
   "outputs": [
    {
     "data": {
      "image/png": "[encoded data removed]",
      "text/plain": [
       "<Figure size 432x288 with 2 Axes>"
      ]
     },
     "metadata": {
      "needs_background": "light"
     },
     "output_type": "display_data"
    }
   ],
   "source": [
    "confusion_matrix = metrics.confusion_matrix(Y_test,pred)\n",
    "\n",
    "m_display = metrics.ConfusionMatrixDisplay(confusion_matrix = confusion_matrix, display_labels = ['Male', 'Female'])\n",
    "m_display.plot()\n",
    "plt.show()"
   ]
  },
  {
   "cell_type": "code",
   "execution_count": 68,
   "id": "dff833dc",
   "metadata": {},
   "outputs": [
    {
     "name": "stdout",
     "output_type": "stream",
     "text": [
      "              precision    recall  f1-score   support\n",
      "\n",
      "           0       0.00      0.00      0.00        14\n",
      "           1       0.48      1.00      0.65        13\n",
      "\n",
      "    accuracy                           0.48        27\n",
      "   macro avg       0.24      0.50      0.33        27\n",
      "weighted avg       0.23      0.48      0.31        27\n",
      "\n"
     ]
    },
    {
     "name": "stderr",
     "output_type": "stream",
     "text": [
      "C:\\Users\\minahil\\anaconda3\\lib\\site-packages\\sklearn\\metrics\\_classification.py:1318: UndefinedMetricWarning: Precision and F-score are ill-defined and being set to 0.0 in labels with no predicted samples. Use `zero_division` parameter to control this behavior.\n",
      "  _warn_prf(average, modifier, msg_start, len(result))\n",
      "C:\\Users\\minahil\\anaconda3\\lib\\site-packages\\sklearn\\metrics\\_classification.py:1318: UndefinedMetricWarning: Precision and F-score are ill-defined and being set to 0.0 in labels with no predicted samples. Use `zero_division` parameter to control this behavior.\n",
      "  _warn_prf(average, modifier, msg_start, len(result))\n",
      "C:\\Users\\minahil\\anaconda3\\lib\\site-packages\\sklearn\\metrics\\_classification.py:1318: UndefinedMetricWarning: Precision and F-score are ill-defined and being set to 0.0 in labels with no predicted samples. Use `zero_division` parameter to control this behavior.\n",
      "  _warn_prf(average, modifier, msg_start, len(result))\n"
     ]
    }
   ],
   "source": [
    "print(classification_report(Y_test, pred))"
   ]
  },
  {
   "cell_type": "markdown",
   "id": "accd1a46",
   "metadata": {},
   "source": [
    "### QUESTION:2 (PART 2)"
   ]
  },
  {
   "cell_type": "markdown",
   "id": "fbf4fd7f",
   "metadata": {},
   "source": [
    "#### TRAIN TEST SPLIT (80:20 RATIO)"
   ]
  },
  {
   "cell_type": "code",
   "execution_count": 72,
   "id": "d4c4b98f",
   "metadata": {},
   "outputs": [],
   "source": [
    "x_train, x_test, y_train, y_test = train_test_split(inputfeatures, target, test_size = 0.2, random_state = 1)"
   ]
  },
  {
   "cell_type": "markdown",
   "id": "10d9a1f3",
   "metadata": {},
   "source": [
    "#### RANDOM FOREST CLASSIFIER"
   ]
  },
  {
   "cell_type": "code",
   "execution_count": 73,
   "id": "f566291b",
   "metadata": {},
   "outputs": [
    {
     "data": {
      "text/plain": [
       "RandomForestClassifier()"
      ]
     },
     "execution_count": 73,
     "metadata": {},
     "output_type": "execute_result"
    }
   ],
   "source": [
    "mod = RandomForestClassifier()\n",
    "mod.fit(x_train,y_train)"
   ]
  },
  {
   "cell_type": "code",
   "execution_count": 74,
   "id": "03675d05",
   "metadata": {},
   "outputs": [
    {
     "name": "stdout",
     "output_type": "stream",
     "text": [
      "accuracy score of Random Forest Classifier: 100.0 %\n"
     ]
    }
   ],
   "source": [
    "prediction = mod.predict(x_test)\n",
    "accuracy_rfc = accuracy_score(y_test, prediction)*100\n",
    "print(\"accuracy score of Random Forest Classifier:\", accuracy_rfc, '%')"
   ]
  },
  {
   "cell_type": "code",
   "execution_count": 75,
   "id": "f70b3fb3",
   "metadata": {},
   "outputs": [
    {
     "data": {
      "image/png": "[encoded data removed]",
      "text/plain": [
       "<Figure size 432x288 with 2 Axes>"
      ]
     },
     "metadata": {
      "needs_background": "light"
     },
     "output_type": "display_data"
    }
   ],
   "source": [
    "confusion_matrix = metrics.confusion_matrix(y_test,prediction)\n",
    "\n",
    "cm_display = metrics.ConfusionMatrixDisplay(confusion_matrix = confusion_matrix, display_labels = ['Male', 'Female'])\n",
    "cm_display.plot()\n",
    "plt.show()"
   ]
  },
  {
   "cell_type": "code",
   "execution_count": 76,
   "id": "36c93611",
   "metadata": {},
   "outputs": [
    {
     "name": "stdout",
     "output_type": "stream",
     "text": [
      "              precision    recall  f1-score   support\n",
      "\n",
      "           0       1.00      1.00      1.00         9\n",
      "           1       1.00      1.00      1.00         7\n",
      "\n",
      "    accuracy                           1.00        16\n",
      "   macro avg       1.00      1.00      1.00        16\n",
      "weighted avg       1.00      1.00      1.00        16\n",
      "\n"
     ]
    }
   ],
   "source": [
    "print(classification_report(y_test, prediction))"
   ]
  },
  {
   "cell_type": "markdown",
   "id": "6de2c6a5",
   "metadata": {},
   "source": [
    "#### SUPPORT VECTOR MACHINE"
   ]
  },
  {
   "cell_type": "code",
   "execution_count": 77,
   "id": "125d8749",
   "metadata": {},
   "outputs": [
    {
     "data": {
      "text/plain": [
       "SVC()"
      ]
     },
     "execution_count": 77,
     "metadata": {},
     "output_type": "execute_result"
    }
   ],
   "source": [
    "mod1 = SVC()\n",
    "mod1.fit(x_train,y_train)"
   ]
  },
  {
   "cell_type": "code",
   "execution_count": 78,
   "id": "4fadfaa8",
   "metadata": {},
   "outputs": [
    {
     "name": "stdout",
     "output_type": "stream",
     "text": [
      "accuracy score of Support Vector Machine: 87.5 %\n"
     ]
    }
   ],
   "source": [
    "predict = mod1.predict(x_test)\n",
    "accuracy_svc = accuracy_score(y_test, predict)*100\n",
    "print(\"accuracy score of Support Vector Machine:\", accuracy_svc, '%')"
   ]
  },
  {
   "cell_type": "code",
   "execution_count": 79,
   "id": "d6bc0b72",
   "metadata": {},
   "outputs": [
    {
     "data": {
      "image/png": "[encoded data removed]",
      "text/plain": [
       "<Figure size 432x288 with 2 Axes>"
      ]
     },
     "metadata": {
      "needs_background": "light"
     },
     "output_type": "display_data"
    }
   ],
   "source": [
    "confusion_matrix = metrics.confusion_matrix(y_test,predict)\n",
    "\n",
    "sm_display = metrics.ConfusionMatrixDisplay(confusion_matrix = confusion_matrix, display_labels = ['Male', 'Female'])\n",
    "sm_display.plot()\n",
    "plt.show()"
   ]
  },
  {
   "cell_type": "code",
   "execution_count": 80,
   "id": "f470f3c2",
   "metadata": {},
   "outputs": [
    {
     "name": "stdout",
     "output_type": "stream",
     "text": [
      "              precision    recall  f1-score   support\n",
      "\n",
      "           0       0.89      0.89      0.89         9\n",
      "           1       0.86      0.86      0.86         7\n",
      "\n",
      "    accuracy                           0.88        16\n",
      "   macro avg       0.87      0.87      0.87        16\n",
      "weighted avg       0.88      0.88      0.88        16\n",
      "\n"
     ]
    }
   ],
   "source": [
    "print(classification_report(y_test, predict))"
   ]
  },
  {
   "cell_type": "markdown",
   "id": "7bd2bc17",
   "metadata": {},
   "source": [
    "#### MULTLAYER PERCEPTRON"
   ]
  },
  {
   "cell_type": "code",
   "execution_count": 81,
   "id": "813a6baf",
   "metadata": {},
   "outputs": [
    {
     "name": "stderr",
     "output_type": "stream",
     "text": [
      "C:\\Users\\minahil\\anaconda3\\lib\\site-packages\\sklearn\\neural_network\\_multilayer_perceptron.py:692: ConvergenceWarning: Stochastic Optimizer: Maximum iterations (200) reached and the optimization hasn't converged yet.\n",
      "  warnings.warn(\n"
     ]
    },
    {
     "data": {
      "text/plain": [
       "MLPClassifier()"
      ]
     },
     "execution_count": 81,
     "metadata": {},
     "output_type": "execute_result"
    }
   ],
   "source": [
    "mod2 = MLPClassifier()\n",
    "mod2.fit(x_train,y_train)"
   ]
  },
  {
   "cell_type": "code",
   "execution_count": 82,
   "id": "fa53cc08",
   "metadata": {},
   "outputs": [
    {
     "name": "stdout",
     "output_type": "stream",
     "text": [
      "accuracy score of Multilayer Perceptron: 93.75 %\n"
     ]
    }
   ],
   "source": [
    "pred = mod2.predict(x_test)\n",
    "accuracy_mlp = accuracy_score(y_test, pred)*100\n",
    "print(\"accuracy score of Multilayer Perceptron:\", accuracy_mlp, '%')"
   ]
  },
  {
   "cell_type": "code",
   "execution_count": 83,
   "id": "b4f2e0cb",
   "metadata": {},
   "outputs": [
    {
     "data": {
      "image/png": "[encoded data removed]",
      "text/plain": [
       "<Figure size 432x288 with 2 Axes>"
      ]
     },
     "metadata": {
      "needs_background": "light"
     },
     "output_type": "display_data"
    }
   ],
   "source": [
    "confusion_matrix = metrics.confusion_matrix(y_test,pred)\n",
    "\n",
    "m_display = metrics.ConfusionMatrixDisplay(confusion_matrix = confusion_matrix, display_labels = ['Male', 'Female'])\n",
    "m_display.plot()\n",
    "plt.show()"
   ]
  },
  {
   "cell_type": "code",
   "execution_count": 84,
   "id": "20adeba0",
   "metadata": {},
   "outputs": [
    {
     "name": "stdout",
     "output_type": "stream",
     "text": [
      "              precision    recall  f1-score   support\n",
      "\n",
      "           0       0.90      1.00      0.95         9\n",
      "           1       1.00      0.86      0.92         7\n",
      "\n",
      "    accuracy                           0.94        16\n",
      "   macro avg       0.95      0.93      0.94        16\n",
      "weighted avg       0.94      0.94      0.94        16\n",
      "\n"
     ]
    }
   ],
   "source": [
    "print(classification_report(y_test, pred))"
   ]
  },
  {
   "cell_type": "markdown",
   "id": "f5c59154",
   "metadata": {},
   "source": [
    "### QUESTION:2 (PART 4)"
   ]
  },
  {
   "cell_type": "markdown",
   "id": "f7980ca7",
   "metadata": {},
   "source": [
    "#### Removing beard and scarf attributes"
   ]
  },
  {
   "cell_type": "code",
   "execution_count": 117,
   "id": "14119f9d",
   "metadata": {},
   "outputs": [],
   "source": [
    "x = list(zip(df.height,df.weight,h_encoded,df.shoe_size,e_encoded))\n",
    "y = g_encoded"
   ]
  },
  {
   "cell_type": "markdown",
   "id": "b980f4d4",
   "metadata": {},
   "source": [
    "#### train test split"
   ]
  },
  {
   "cell_type": "code",
   "execution_count": 118,
   "id": "5f55f1d0",
   "metadata": {},
   "outputs": [],
   "source": [
    "x_tr, x_t, y_tr, y_t = train_test_split(x, y, test_size = 0.2, random_state = 1)"
   ]
  },
  {
   "cell_type": "markdown",
   "id": "262e70bb",
   "metadata": {},
   "source": [
    "#### RANDOM FOREST CLASSIFIER"
   ]
  },
  {
   "cell_type": "code",
   "execution_count": 119,
   "id": "eb8bed79",
   "metadata": {},
   "outputs": [
    {
     "data": {
      "text/plain": [
       "RandomForestClassifier()"
      ]
     },
     "execution_count": 119,
     "metadata": {},
     "output_type": "execute_result"
    }
   ],
   "source": [
    "m = RandomForestClassifier()\n",
    "m.fit(x_tr,y_tr)"
   ]
  },
  {
   "cell_type": "code",
   "execution_count": 120,
   "id": "893e7dac",
   "metadata": {},
   "outputs": [
    {
     "name": "stdout",
     "output_type": "stream",
     "text": [
      "accuracy score of Random Forest Classifier: 100.0 %\n"
     ]
    }
   ],
   "source": [
    "prediction = m.predict(x_t)\n",
    "accuracy_rfc = accuracy_score(y_t, prediction)*100\n",
    "print(\"accuracy score of Random Forest Classifier:\", accuracy_rfc, '%')"
   ]
  },
  {
   "cell_type": "markdown",
   "id": "5489dd07",
   "metadata": {},
   "source": [
    "#### SUPPORT VECTOR MACHINE"
   ]
  },
  {
   "cell_type": "code",
   "execution_count": 121,
   "id": "a42147a2",
   "metadata": {},
   "outputs": [
    {
     "data": {
      "text/plain": [
       "SVC()"
      ]
     },
     "execution_count": 121,
     "metadata": {},
     "output_type": "execute_result"
    }
   ],
   "source": [
    "m1 = SVC()\n",
    "m1.fit(x_tr,y_tr)"
   ]
  },
  {
   "cell_type": "code",
   "execution_count": 122,
   "id": "695e1a7a",
   "metadata": {},
   "outputs": [
    {
     "name": "stdout",
     "output_type": "stream",
     "text": [
      "accuracy score of Support Vector Machine: 87.5 %\n"
     ]
    }
   ],
   "source": [
    "predict = m1.predict(x_t)\n",
    "accuracy_svc = accuracy_score(y_t, predict)*100\n",
    "print(\"accuracy score of Support Vector Machine:\", accuracy_svc, '%')"
   ]
  },
  {
   "cell_type": "code",
   "execution_count": 123,
   "id": "64a4427b",
   "metadata": {},
   "outputs": [
    {
     "data": {
      "image/png": "[encoded data removed]",
      "text/plain": [
       "<Figure size 432x288 with 2 Axes>"
      ]
     },
     "metadata": {
      "needs_background": "light"
     },
     "output_type": "display_data"
    }
   ],
   "source": [
    "confusion_matrix = metrics.confusion_matrix(y_t,predict)\n",
    "\n",
    "m_display = metrics.ConfusionMatrixDisplay(confusion_matrix = confusion_matrix, display_labels = ['Male', 'Female'])\n",
    "m_display.plot()\n",
    "plt.show()"
   ]
  },
  {
   "cell_type": "markdown",
   "id": "9f4ae4ef",
   "metadata": {},
   "source": [
    "#### MULTILAYER PERCEPTRON"
   ]
  },
  {
   "cell_type": "code",
   "execution_count": 124,
   "id": "4fbaa8dc",
   "metadata": {},
   "outputs": [
    {
     "data": {
      "text/plain": [
       "MLPClassifier()"
      ]
     },
     "execution_count": 124,
     "metadata": {},
     "output_type": "execute_result"
    }
   ],
   "source": [
    "m2 = MLPClassifier()\n",
    "m2.fit(x_tr,y_tr)"
   ]
  },
  {
   "cell_type": "code",
   "execution_count": 125,
   "id": "94323d76",
   "metadata": {},
   "outputs": [
    {
     "name": "stdout",
     "output_type": "stream",
     "text": [
      "accuracy score of Multilayer Perceptron: 43.75 %\n"
     ]
    }
   ],
   "source": [
    "pred = m2.predict(x_t)\n",
    "accuracy_mlp = accuracy_score(y_t, pred)*100\n",
    "print(\"accuracy score of Multilayer Perceptron:\", accuracy_mlp, '%')"
   ]
  },
  {
   "cell_type": "code",
   "execution_count": 126,
   "id": "150cc887",
   "metadata": {},
   "outputs": [
    {
     "data": {
      "image/png": "[encoded data removed]",
      "text/plain": [
       "<Figure size 432x288 with 2 Axes>"
      ]
     },
     "metadata": {
      "needs_background": "light"
     },
     "output_type": "display_data"
    }
   ],
   "source": [
    "confusion_matrix = metrics.confusion_matrix(y_t,pred)\n",
    "\n",
    "c_display = metrics.ConfusionMatrixDisplay(confusion_matrix = confusion_matrix, display_labels = ['Male', 'Female'])\n",
    "c_display.plot()\n",
    "plt.show()"
   ]
  },
  {
   "cell_type": "markdown",
   "id": "bb2e6b2e",
   "metadata": {},
   "source": [
    "## QUESTION:3"
   ]
  },
  {
   "cell_type": "markdown",
   "id": "6862e6c5",
   "metadata": {},
   "source": [
    "### Monte Carlo cross-validation"
   ]
  },
  {
   "cell_type": "code",
   "execution_count": 192,
   "id": "a00866dc",
   "metadata": {},
   "outputs": [],
   "source": [
    "X = list(zip(df.height,df.weight,b_encoded,h_encoded,df.shoe_size,s_encoded,e_encoded))\n",
    "Y= g_encoded"
   ]
  },
  {
   "cell_type": "code",
   "execution_count": 193,
   "id": "65cfb99e",
   "metadata": {},
   "outputs": [],
   "source": [
    "mc_split = ShuffleSplit(n_splits=5, test_size = 0.2, random_state = 1)"
   ]
  },
  {
   "cell_type": "code",
   "execution_count": 194,
   "id": "32620d38",
   "metadata": {},
   "outputs": [],
   "source": [
    "DTC = DecisionTreeClassifier()"
   ]
  },
  {
   "cell_type": "code",
   "execution_count": 195,
   "id": "ac9aa41f",
   "metadata": {},
   "outputs": [],
   "source": [
    "split = cross_val_score(DTC, X, Y, scoring=\"f1\", cv=mc_split)"
   ]
  },
  {
   "cell_type": "code",
   "execution_count": 197,
   "id": "7f9ac830",
   "metadata": {},
   "outputs": [
    {
     "data": {
      "text/plain": [
       "array([1.        , 1.        , 1.        , 0.95238095, 0.94117647])"
      ]
     },
     "execution_count": 197,
     "metadata": {},
     "output_type": "execute_result"
    }
   ],
   "source": [
    "split"
   ]
  },
  {
   "cell_type": "code",
   "execution_count": 198,
   "id": "7ddeb478",
   "metadata": {},
   "outputs": [
    {
     "name": "stdout",
     "output_type": "stream",
     "text": [
      "F1 score of Decision tree with monte carlo cross validation: 97.87114845938376 %\n"
     ]
    }
   ],
   "source": [
    "accuracy = split.mean()*100\n",
    "print(\"F1 score of Decision tree with monte carlo cross validation:\", accuracy, '%')"
   ]
  },
  {
   "cell_type": "markdown",
   "id": "b3a9b407",
   "metadata": {},
   "source": [
    "### Leave P-Out cross validation"
   ]
  },
  {
   "cell_type": "code",
   "execution_count": 199,
   "id": "1482294e",
   "metadata": {},
   "outputs": [
    {
     "data": {
      "text/plain": [
       "82160"
      ]
     },
     "execution_count": 199,
     "metadata": {},
     "output_type": "execute_result"
    }
   ],
   "source": [
    "tc_split = LeavePOut(p=3)\n",
    "tc_split.get_n_splits(X)"
   ]
  },
  {
   "cell_type": "code",
   "execution_count": null,
   "id": "5a0c3b35",
   "metadata": {},
   "outputs": [],
   "source": [
    "score = cross_val_score(DTC, X,Y, scoring=\"f1\", cv=tc_split)"
   ]
  },
  {
   "cell_type": "code",
   "execution_count": 201,
   "id": "e1dcb392",
   "metadata": {},
   "outputs": [
    {
     "data": {
      "text/plain": [
       "array([1.        , 1.        , 1.        , ..., 0.66666667, 0.66666667,\n",
       "       0.8       ])"
      ]
     },
     "execution_count": 201,
     "metadata": {},
     "output_type": "execute_result"
    }
   ],
   "source": [
    "score"
   ]
  },
  {
   "cell_type": "code",
   "execution_count": 203,
   "id": "660e865b",
   "metadata": {},
   "outputs": [
    {
     "name": "stdout",
     "output_type": "stream",
     "text": [
      "f1 score of Decision tree with POut cross validation: 87.3635994806881 %\n"
     ]
    }
   ],
   "source": [
    "acc = score.mean()*100\n",
    "print(\"f1 score of Decision tree with POut cross validation:\", acc, '%')"
   ]
  },
  {
   "cell_type": "markdown",
   "id": "da53d2c2",
   "metadata": {},
   "source": [
    "## QUESTION:4"
   ]
  },
  {
   "cell_type": "markdown",
   "id": "e61d5957",
   "metadata": {},
   "source": [
    "#### Adding more 5 instances and loading data again"
   ]
  },
  {
   "cell_type": "code",
   "execution_count": 153,
   "id": "032ba948",
   "metadata": {},
   "outputs": [
    {
     "data": {
      "text/html": [
       "<div>\n",
       "<style scoped>\n",
       "    .dataframe tbody tr th:only-of-type {\n",
       "        vertical-align: middle;\n",
       "    }\n",
       "\n",
       "    .dataframe tbody tr th {\n",
       "        vertical-align: top;\n",
       "    }\n",
       "\n",
       "    .dataframe thead th {\n",
       "        text-align: right;\n",
       "    }\n",
       "</style>\n",
       "<table border=\"1\" class=\"dataframe\">\n",
       "  <thead>\n",
       "    <tr style=\"text-align: right;\">\n",
       "      <th></th>\n",
       "      <th>height</th>\n",
       "      <th>weight</th>\n",
       "      <th>beard</th>\n",
       "      <th>hair_length</th>\n",
       "      <th>shoe_size</th>\n",
       "      <th>scarf</th>\n",
       "      <th>eye_color</th>\n",
       "      <th>gender</th>\n",
       "    </tr>\n",
       "  </thead>\n",
       "  <tbody>\n",
       "    <tr>\n",
       "      <th>80</th>\n",
       "      <td>70</td>\n",
       "      <td>127</td>\n",
       "      <td>no</td>\n",
       "      <td>medium</td>\n",
       "      <td>40</td>\n",
       "      <td>yes</td>\n",
       "      <td>black</td>\n",
       "      <td>female</td>\n",
       "    </tr>\n",
       "    <tr>\n",
       "      <th>81</th>\n",
       "      <td>73</td>\n",
       "      <td>133</td>\n",
       "      <td>yes</td>\n",
       "      <td>medium</td>\n",
       "      <td>39</td>\n",
       "      <td>no</td>\n",
       "      <td>blue</td>\n",
       "      <td>male</td>\n",
       "    </tr>\n",
       "    <tr>\n",
       "      <th>82</th>\n",
       "      <td>65</td>\n",
       "      <td>129</td>\n",
       "      <td>no</td>\n",
       "      <td>short</td>\n",
       "      <td>37</td>\n",
       "      <td>no</td>\n",
       "      <td>brown</td>\n",
       "      <td>male</td>\n",
       "    </tr>\n",
       "    <tr>\n",
       "      <th>83</th>\n",
       "      <td>69</td>\n",
       "      <td>141</td>\n",
       "      <td>no</td>\n",
       "      <td>long</td>\n",
       "      <td>40</td>\n",
       "      <td>no</td>\n",
       "      <td>blue</td>\n",
       "      <td>female</td>\n",
       "    </tr>\n",
       "    <tr>\n",
       "      <th>84</th>\n",
       "      <td>70</td>\n",
       "      <td>138</td>\n",
       "      <td>yes</td>\n",
       "      <td>short</td>\n",
       "      <td>38</td>\n",
       "      <td>no</td>\n",
       "      <td>black</td>\n",
       "      <td>male</td>\n",
       "    </tr>\n",
       "  </tbody>\n",
       "</table>\n",
       "</div>"
      ],
      "text/plain": [
       "    height  weight beard hair_length  shoe_size scarf eye_color  gender\n",
       "80      70     127    no      medium         40   yes     black  female\n",
       "81      73     133   yes      medium         39    no      blue    male\n",
       "82      65     129    no       short         37    no     brown    male\n",
       "83      69     141    no        long         40    no      blue  female\n",
       "84      70     138   yes       short         38    no     black    male"
      ]
     },
     "execution_count": 153,
     "metadata": {},
     "output_type": "execute_result"
    }
   ],
   "source": [
    "data = pd.read_csv(\"gender-prediction.csv\")\n",
    "data.tail()"
   ]
  },
  {
   "cell_type": "markdown",
   "id": "f9612a82",
   "metadata": {},
   "source": [
    "#### ENCODING"
   ]
  },
  {
   "cell_type": "code",
   "execution_count": 154,
   "id": "27998d26",
   "metadata": {},
   "outputs": [],
   "source": [
    "#converting strings into numbers\n",
    "labels = preprocessing.LabelEncoder()\n",
    "beard_encoded = labels.fit_transform(data.beard)\n",
    "hair_encoded = labels.fit_transform(data.hair_length)\n",
    "scarf_encoded = labels.fit_transform(data.scarf)\n",
    "eye_encoded = labels.fit_transform(data.eye_color)\n",
    "gender_encoded = labels.fit_transform(data.gender)"
   ]
  },
  {
   "cell_type": "code",
   "execution_count": 172,
   "id": "431c9076",
   "metadata": {},
   "outputs": [
    {
     "data": {
      "text/plain": [
       "array([1, 1, 0, 0, 1, 1, 1, 1, 0, 0, 0, 1, 1, 0, 1, 1, 1, 0, 0, 0, 0, 1,\n",
       "       1, 1, 0, 1, 1, 0, 0, 0, 0, 1, 0, 0, 0, 1, 0, 1, 0, 0, 0, 1, 1, 1,\n",
       "       1, 1, 1, 1, 1, 1, 1, 1, 1, 1, 0, 1, 1, 0, 1, 1, 1, 1, 1, 0, 0, 1,\n",
       "       0, 1, 0, 1, 0, 1, 1, 0, 0, 0, 0, 1, 1, 0, 0, 1, 1, 0, 1])"
      ]
     },
     "execution_count": 172,
     "metadata": {},
     "output_type": "execute_result"
    }
   ],
   "source": [
    "gender_encoded"
   ]
  },
  {
   "cell_type": "markdown",
   "id": "e728f6d5",
   "metadata": {},
   "source": [
    "#### SEPERATING INPUT OUTPUT"
   ]
  },
  {
   "cell_type": "code",
   "execution_count": 155,
   "id": "0eecd506",
   "metadata": {},
   "outputs": [],
   "source": [
    "X_feature = list(zip(data.height,data.weight,beard_encoded,hair_encoded,data.shoe_size,scarf_encoded,eye_encoded))\n",
    "Y_target = gender_encoded"
   ]
  },
  {
   "cell_type": "markdown",
   "id": "aaa0df14",
   "metadata": {},
   "source": [
    "### Gussain Naive Bayes"
   ]
  },
  {
   "cell_type": "code",
   "execution_count": 156,
   "id": "c7bd0dcc",
   "metadata": {},
   "outputs": [],
   "source": [
    "from sklearn.naive_bayes import GaussianNB"
   ]
  },
  {
   "cell_type": "code",
   "execution_count": 157,
   "id": "26505e92",
   "metadata": {},
   "outputs": [
    {
     "data": {
      "text/plain": [
       "GaussianNB()"
      ]
     },
     "execution_count": 157,
     "metadata": {},
     "output_type": "execute_result"
    }
   ],
   "source": [
    "model = GaussianNB()\n",
    "model.fit(X_feature,Y_target)"
   ]
  },
  {
   "cell_type": "markdown",
   "id": "eb9ad6a8",
   "metadata": {},
   "source": [
    "#### Adding new test instances"
   ]
  },
  {
   "cell_type": "code",
   "execution_count": 179,
   "id": "82d32d66",
   "metadata": {},
   "outputs": [],
   "source": [
    "height = [70, 69, 72, 65, 68, 69, 72, 73, 69, 71]\n",
    "weight = [130, 129, 142, 125, 148, 133, 122, 166, 144, 139]\n",
    "beard = [1, 0, 0, 1, 0, 1, 0, 1, 1, 0]\n",
    "hair_length = [2, 1, 3, 3, 1, 2, 2, 3, 2, 1]\n",
    "shoe_size = [39, 39, 40, 37, 38, 39, 37, 40, 41, 37]\n",
    "scarf = [0, 1, 0, 0, 1, 0, 0, 0, 0, 1]\n",
    "eye_color = [2, 0, 3, 1, 2, 0, 0, 2, 4, 0]\n",
    "gender = [1, 0, 1, 1, 0, 1, 0, 1, 1, 0]"
   ]
  },
  {
   "cell_type": "code",
   "execution_count": 180,
   "id": "395cda9b",
   "metadata": {},
   "outputs": [
    {
     "data": {
      "text/plain": [
       "[(70, 130, 1, 2, 39, 0, 2),\n",
       " (69, 129, 0, 1, 39, 1, 0),\n",
       " (72, 142, 0, 3, 40, 0, 3),\n",
       " (65, 125, 1, 3, 37, 0, 1),\n",
       " (68, 148, 0, 1, 38, 1, 2),\n",
       " (69, 133, 1, 2, 39, 0, 0),\n",
       " (72, 122, 0, 2, 37, 0, 0),\n",
       " (73, 166, 1, 3, 40, 0, 2),\n",
       " (69, 144, 1, 2, 41, 0, 4),\n",
       " (71, 139, 0, 1, 37, 1, 0)]"
      ]
     },
     "execution_count": 180,
     "metadata": {},
     "output_type": "execute_result"
    }
   ],
   "source": [
    "x = list(zip(height,weight,beard,hair_length,shoe_size,scarf,eye_color))\n",
    "y = gender\n",
    "x"
   ]
  },
  {
   "cell_type": "code",
   "execution_count": 191,
   "id": "17c755e1",
   "metadata": {},
   "outputs": [
    {
     "data": {
      "text/plain": [
       "[1, 0, 1, 1, 0, 1, 0, 1, 1, 0]"
      ]
     },
     "execution_count": 191,
     "metadata": {},
     "output_type": "execute_result"
    }
   ],
   "source": [
    "y"
   ]
  },
  {
   "cell_type": "code",
   "execution_count": 181,
   "id": "b6f069f2",
   "metadata": {},
   "outputs": [],
   "source": [
    "predict = model.predict(x)"
   ]
  },
  {
   "cell_type": "code",
   "execution_count": 182,
   "id": "ff523cbc",
   "metadata": {},
   "outputs": [
    {
     "name": "stdout",
     "output_type": "stream",
     "text": [
      "accuracy score of Gussian Naive bayes: 90.0 %\n"
     ]
    }
   ],
   "source": [
    "accuracy = accuracy_score(y, predict)*100\n",
    "print(\"accuracy score of Gussian Naive bayes:\", accuracy, '%')"
   ]
  },
  {
   "cell_type": "code",
   "execution_count": 189,
   "id": "4508e379",
   "metadata": {},
   "outputs": [
    {
     "name": "stdout",
     "output_type": "stream",
     "text": [
      "precision score of Gussian Naive bayes: 85.71428571428571 %\n"
     ]
    }
   ],
   "source": [
    "precision = precision_score(y, predict)*100\n",
    "print(\"precision score of Gussian Naive bayes:\", precision, '%')"
   ]
  },
  {
   "cell_type": "code",
   "execution_count": 190,
   "id": "c0f7cbba",
   "metadata": {},
   "outputs": [
    {
     "name": "stdout",
     "output_type": "stream",
     "text": [
      "recall score of Gussian Naive bayes: 100.0 %\n"
     ]
    }
   ],
   "source": [
    "recall = recall_score(y, predict)*100\n",
    "print(\"recall score of Gussian Naive bayes:\", recall, '%')"
   ]
  },
  {
   "cell_type": "code",
   "execution_count": 187,
   "id": "eb530c03",
   "metadata": {},
   "outputs": [
    {
     "data": {
      "image/png": "[encoded data removed]",
      "text/plain": [
       "<Figure size 432x288 with 2 Axes>"
      ]
     },
     "metadata": {
      "needs_background": "light"
     },
     "output_type": "display_data"
    }
   ],
   "source": [
    "confusion_matrix = metrics.confusion_matrix(y,predict)\n",
    "\n",
    "c_display = metrics.ConfusionMatrixDisplay(confusion_matrix = confusion_matrix, display_labels = ['Male', 'Female'])\n",
    "c_display.plot()\n",
    "plt.show()"
   ]
  },
  {
   "cell_type": "code",
   "execution_count": 188,
   "id": "94fc8881",
   "metadata": {},
   "outputs": [
    {
     "name": "stdout",
     "output_type": "stream",
     "text": [
      "              precision    recall  f1-score   support\n",
      "\n",
      "           0       1.00      0.75      0.86         4\n",
      "           1       0.86      1.00      0.92         6\n",
      "\n",
      "    accuracy                           0.90        10\n",
      "   macro avg       0.93      0.88      0.89        10\n",
      "weighted avg       0.91      0.90      0.90        10\n",
      "\n"
     ]
    }
   ],
   "source": [
    "print(classification_report(y, predict))"
   ]
  },
  {
   "cell_type": "markdown",
   "id": "111fdeda",
   "metadata": {},
   "source": [
    "## TEST any INSTANCE using GAUSSIAN NAIVE BAYES"
   ]
  },
  {
   "cell_type": "code",
   "execution_count": 160,
   "id": "ae55878d",
   "metadata": {},
   "outputs": [
    {
     "name": "stdout",
     "output_type": "stream",
     "text": [
      "Enter Height:70\n",
      "Enter Weight:130\n",
      "Enter Beard(0/1):0\n",
      "Enter hair length(small(3)/long(1)/medium(2)/bald(0):3\n",
      "Enter shoe size:40\n",
      "wear scarf (yes:1/no:0):1\n",
      "Enter your eye color(black:0/blue:1/gray:3/brown:2/green:4):1\n",
      "model Prdeict this data set as: Female\n"
     ]
    },
    {
     "name": "stderr",
     "output_type": "stream",
     "text": [
      "C:\\Users\\minahil\\anaconda3\\lib\\site-packages\\sklearn\\base.py:566: FutureWarning: Arrays of bytes/strings is being converted to decimal numbers if dtype='numeric'. This behavior is deprecated in 0.24 and will be removed in 1.1 (renaming of 0.26). Please convert your data to numeric values explicitly instead.\n",
      "  X = check_array(X, **check_params)\n"
     ]
    }
   ],
   "source": [
    "Height = input('Enter Height:')\n",
    "Weight = input('Enter Weight:')\n",
    "Beard = input('Enter Beard(0/1):')\n",
    "Hair_length = input('Enter hair length(small(3)/long(1)/medium(2)/bald(0):')\n",
    "Shoe_size = input('Enter shoe size:')\n",
    "Scarf = input('wear scarf (yes:1/no:0):')\n",
    "Eye_Color = input('Enter your eye color(black:0/blue:1/gray:3/brown:2/green:4):')\n",
    "ans = model.predict([[Height, Weight, Beard, Hair_length, Shoe_size, Scarf, Eye_Color]])\n",
    "if(ans == 1):\n",
    "    print(\"model Prdeict this data set as: Male\")\n",
    "else:\n",
    "    print(\"model Prdeict this data set as: Female\")\n"
   ]
  },
  {
   "cell_type": "code",
   "execution_count": null,
   "id": "ccf007c5",
   "metadata": {},
   "outputs": [],
   "source": []
  }
 ],
 "metadata": {
  "kernelspec": {
   "display_name": "Python 3 (ipykernel)",
   "language": "python",
   "name": "python3"
  },
  "language_info": {
   "codemirror_mode": {
    "name": "ipython",
    "version": 3
   },
   "file_extension": ".py",
   "mimetype": "text/x-python",
   "name": "python",
   "nbconvert_exporter": "python",
   "pygments_lexer": "ipython3",
   "version": "3.9.12"
  }
 },
 "nbformat": 4,
 "nbformat_minor": 5
}
